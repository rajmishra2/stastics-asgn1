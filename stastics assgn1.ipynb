{
 "cells": [
  {
   "cell_type": "markdown",
   "id": "9a7ebe4d-48e4-4582-893a-7195184d354e",
   "metadata": {},
   "source": [
    "Q1. What is Statistics?\n",
    "\n",
    "it is the science of collecting,organizing and analyzing data."
   ]
  },
  {
   "cell_type": "markdown",
   "id": "92df6381-a9be-4495-a5d1-53bf62121adb",
   "metadata": {},
   "source": [
    "Q3. What are the different types of data and how do they differ from each other? Provide an example of\n",
    "each type of data.\n",
    "\n",
    "1-Quantitative data =Can be shown in numbers and variables like ratio, percentage, and more. eg-Example: 100%, 1:3, 123\n",
    "\n",
    "2-Qualitative data=Could be about the behavioral attributes of a person, or thing. eg-\tExample: loud behavior, fair skin, soft quality, and more."
   ]
  },
  {
   "cell_type": "markdown",
   "id": "25d125b9-c7fa-4bb4-a13c-0966c01b989f",
   "metadata": {},
   "source": [
    "Q2. Define the different types of statistics and give an example of when each type might be used.\n",
    "\n",
    "1-descriptive stastics eg-organizing and summarizing data\n",
    "2-inferential stastics eg-it is used to measure concclusion"
   ]
  },
  {
   "cell_type": "markdown",
   "id": "8ba297bd-55d0-4b30-9fa4-ae2383d88751",
   "metadata": {},
   "source": [
    "Q4. Categorise the following datasets with respect to quantitative and qualitative data types:\n",
    "(i) Grading in exam: A+, A, B+, B, C+, C, D, E\n",
    "(ii) Colour of mangoes: yellow, green, orange, red\n",
    "(iii) Height data of a class: [178.9, 179, 179.5, 176, 177.2, 178.3, 175.8,...]\n",
    "(iv) Number of mangoes exported by a farm: [500, 600, 478, 672, ...]\n",
    "\n",
    "1-nominal data\n",
    "2-nominal data\n",
    "3-ratio scale data\n",
    "4-interval data"
   ]
  },
  {
   "cell_type": "markdown",
   "id": "d08d54bc-3da1-47ce-8e19-7530976f6bb7",
   "metadata": {},
   "source": [
    "Q5. Explain the concept of levels of measurement and give an example of a variable for each level.\n",
    "Levels of measurement, also called scales of measurement, tell you how precisely variables are recorded. \n",
    "1-nominal-gender\n",
    "2-ordinal-feedback\n",
    "3-interval-temperature variable\n",
    "4-ratio-students marks"
   ]
  },
  {
   "cell_type": "markdown",
   "id": "cc211dd7-b35b-4ced-9d62-3c1bdab618c8",
   "metadata": {},
   "source": [
    "Q6. Why is it important to understand the level of measurement when analyzing data? Provide an\n",
    "example to illustrate your answer.\n",
    "\n",
    "because when we have big data and at that time we need to categorize the data and with the help of this we are able to diffrentiate.\n",
    "eg-if we want to ranking order data we can do this and can elaborate in ratio way."
   ]
  },
  {
   "cell_type": "markdown",
   "id": "e07f28e3-3aaa-436d-9d6a-e38d5c72936e",
   "metadata": {},
   "source": [
    "Q7. How nominal data type is different from ordinal data type.\n",
    "\n",
    "in nominal rank does not matter while in ordinal rank determine."
   ]
  },
  {
   "cell_type": "markdown",
   "id": "95170c8f-516d-402c-a56e-4b7967edb52e",
   "metadata": {},
   "source": [
    "Q8. Which type of plot can be used to display data in terms of range?\n",
    " Ans-scatterplot"
   ]
  },
  {
   "cell_type": "markdown",
   "id": "853f3f0d-be1d-4d06-8448-17d4bf5fbcd8",
   "metadata": {},
   "source": [
    "Q9. Describe the difference between descriptive and inferential statistics. Give an example of each\n",
    "type of statistics and explain how they are used.\n",
    "\n",
    " descriptive data-consist of organizing and summarizing data, measure central tendency(mean,mode , median)\n",
    "  inferential statistics-it form final conclusion eg- height of students in class from the entire college."
   ]
  },
  {
   "cell_type": "markdown",
   "id": "c133b7b5-c577-4c2c-9364-1bc4a2ef110a",
   "metadata": {},
   "source": [
    "Q10. What are some common measures of central tendency and variability used in statistics? Explain\n",
    "how each measure can be used to describe a dataset.\n",
    "\n",
    "mean,median, mode"
   ]
  }
 ],
 "metadata": {
  "kernelspec": {
   "display_name": "Python 3 (ipykernel)",
   "language": "python",
   "name": "python3"
  },
  "language_info": {
   "codemirror_mode": {
    "name": "ipython",
    "version": 3
   },
   "file_extension": ".py",
   "mimetype": "text/x-python",
   "name": "python",
   "nbconvert_exporter": "python",
   "pygments_lexer": "ipython3",
   "version": "3.10.8"
  }
 },
 "nbformat": 4,
 "nbformat_minor": 5
}
